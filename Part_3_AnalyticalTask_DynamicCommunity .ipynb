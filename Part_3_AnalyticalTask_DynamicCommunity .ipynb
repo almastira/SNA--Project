{
 "cells": [
  {
   "cell_type": "code",
   "execution_count": 2,
   "id": "20d722fe",
   "metadata": {},
   "outputs": [],
   "source": [
    "import pandas as pd\n",
    "import matplotlib.pyplot as plt\n",
    "import networkx as nx\n",
    "from networkx.drawing.nx_agraph import graphviz_layout\n",
    "import itertools"
   ]
  },
  {
   "cell_type": "code",
   "execution_count": 3,
   "id": "9a74c2da",
   "metadata": {},
   "outputs": [
    {
     "name": "stdout",
     "output_type": "stream",
     "text": [
      "Note: to be able to use all crisp methods, you need to install some additional packages:  {'graph_tool', 'infomap', 'wurlitzer', 'bayanpy'}\n",
      "Note: to be able to use all crisp methods, you need to install some additional packages:  {'ASLPAw'}\n",
      "Note: to be able to use all crisp methods, you need to install some additional packages:  {'infomap', 'wurlitzer'}\n"
     ]
    }
   ],
   "source": [
    "from cdlib import algorithms, ensemble, evaluation, viz, NodeClustering, TemporalClustering"
   ]
  },
  {
   "cell_type": "code",
   "execution_count": 4,
   "id": "770fcef3",
   "metadata": {},
   "outputs": [],
   "source": []
  },
  {
   "cell_type": "code",
   "execution_count": 5,
   "id": "4769fbd6",
   "metadata": {},
   "outputs": [],
   "source": [
    "df= pd.read_csv(\"df_top10.csv\") #df originale"
   ]
  },
  {
   "cell_type": "markdown",
   "id": "cc662c03",
   "metadata": {},
   "source": [
    "### Preparazione del dataset"
   ]
  },
  {
   "cell_type": "code",
   "execution_count": 6,
   "id": "2840a4b4",
   "metadata": {},
   "outputs": [],
   "source": [
    "# Creazione di una nuova colonna 'Year' basata sulla colonna 'Date'\n",
    "df['Publication Date'] = pd.to_datetime(df['Publication Date'], errors='coerce')\n",
    "\n",
    "df['Year'] = df['Publication Date'].dt.year\n",
    "\n",
    "#df"
   ]
  },
  {
   "cell_type": "code",
   "execution_count": 7,
   "id": "8106565b",
   "metadata": {},
   "outputs": [],
   "source": [
    "# Filtro il dataset per intervalli: per i timestamp\n",
    "G_2020 = df[(df['Year'] >= 2010.0) & (df['Year'] <= 2023.0)]\n",
    "\n",
    "G_2010 = df[(df['Year'] >= 2000.0) & (df['Year'] <= 2009.0)]\n",
    "G_2000 = df[(df['Year'] >= 1990.0) & (df['Year'] <= 1999.0)]\n",
    "G_1990 = df[(df['Year'] >= 1980.0) & (df['Year'] <= 1989.0)]\n",
    "G_1980 = df[(df['Year'] >= 1970.0) & (df['Year'] <= 1979.0)]\n"
   ]
  },
  {
   "cell_type": "code",
   "execution_count": null,
   "id": "6d1a11f0",
   "metadata": {},
   "outputs": [],
   "source": [
    "graph_serie=[G_2020,G_2010,G_2000,G_1990,G_1980]"
   ]
  },
  {
   "cell_type": "code",
   "execution_count": 8,
   "id": "b2d3ec24",
   "metadata": {},
   "outputs": [],
   "source": []
  },
  {
   "cell_type": "code",
   "execution_count": 9,
   "id": "e5043f6c",
   "metadata": {},
   "outputs": [],
   "source": []
  },
  {
   "cell_type": "code",
   "execution_count": null,
   "id": "5743385f",
   "metadata": {},
   "outputs": [],
   "source": [
    "# Funzione per generare combinazione di coppie di inventori\n",
    "def generate_inventor_pairs_1(inventor_list):\n",
    "    pairs = list(itertools.combinations(inventor_list, 2))\n",
    "    return pairs"
   ]
  },
  {
   "cell_type": "markdown",
   "id": "741b3ddc",
   "metadata": {},
   "source": [
    "G_2020 è uguale al df compreso tra 2010 e il 2023"
   ]
  },
  {
   "cell_type": "code",
   "execution_count": 11,
   "id": "649a4114",
   "metadata": {},
   "outputs": [],
   "source": [
    "# Inizializzazione del dizionario per il conteggio delle coppie di inventori\n",
    "pair_counts = {}\n",
    "\n",
    "# Iterazione attraverso ogni riga del dataframe\n",
    "for index, row in G_2020.iterrows():\n",
    "    inventors = row['Inventors']\n",
    "    \n",
    "    if pd.isna(inventors) or not isinstance(inventors, str):\n",
    "        continue\n",
    "    \n",
    "    inventors = inventors.split(';;')\n",
    "    pairs = generate_inventor_pairs_1(inventors)\n",
    "    \n",
    "    for pair in pairs:\n",
    "        if pair in pair_counts:\n",
    "            pair_counts[pair] += 1\n",
    "        else:\n",
    "            pair_counts[pair] = 1\n",
    "    \n",
    "\n",
    "# Creazione del nuovo dataframe con le colonne \"source\", \"target\" e \"weight\"\n",
    "new_rows = []\n",
    "\n",
    "for pair, count in pair_counts.items():\n",
    "    source, target = pair\n",
    "    new_rows.append({'Source': source, 'Target': target, 'Weight': count})\n",
    "\n",
    "G1 = pd.DataFrame(new_rows)"
   ]
  },
  {
   "cell_type": "code",
   "execution_count": 12,
   "id": "5375119a",
   "metadata": {},
   "outputs": [],
   "source": [
    "#G1"
   ]
  },
  {
   "cell_type": "markdown",
   "id": "7d6a145a",
   "metadata": {},
   "source": [
    "G_2010 è uguale al df compreso tra 2000 e il 2009"
   ]
  },
  {
   "cell_type": "code",
   "execution_count": 13,
   "id": "7747775f",
   "metadata": {},
   "outputs": [],
   "source": [
    "# Inizializzazione del dizionario per il conteggio delle coppie di inventori\n",
    "pair_counts = {}\n",
    "\n",
    "# Iterazione attraverso ogni riga del dataframe\n",
    "for index, row in G_2010.iterrows():\n",
    "    inventors = row['Inventors']\n",
    "    \n",
    "    if pd.isna(inventors) or not isinstance(inventors, str):\n",
    "        continue\n",
    "    \n",
    "    inventors = inventors.split(';;')\n",
    "    pairs = generate_inventor_pairs_1(inventors)\n",
    "    \n",
    "    for pair in pairs:\n",
    "        if pair in pair_counts:\n",
    "            pair_counts[pair] += 1\n",
    "        else:\n",
    "            pair_counts[pair] = 1\n",
    "    \n",
    "\n",
    "# Creazione del nuovo dataframe con le colonne \"source\", \"target\" e \"weight\"\n",
    "new_rows = []\n",
    "\n",
    "for pair, count in pair_counts.items():\n",
    "    source, target = pair\n",
    "    new_rows.append({'Source': source, 'Target': target, 'Weight': count})\n",
    "\n",
    "G2 = pd.DataFrame(new_rows)"
   ]
  },
  {
   "cell_type": "code",
   "execution_count": 14,
   "id": "b25aaad0",
   "metadata": {},
   "outputs": [],
   "source": [
    "#G2"
   ]
  },
  {
   "cell_type": "markdown",
   "id": "aade057b",
   "metadata": {},
   "source": [
    "G_2000 è uguale al df compreso tra 1990 e il 1999"
   ]
  },
  {
   "cell_type": "code",
   "execution_count": 15,
   "id": "9b171ca7",
   "metadata": {},
   "outputs": [],
   "source": [
    "pair_counts = {}\n",
    "\n",
    "for index, row in G_2000.iterrows():\n",
    "    inventors = row['Inventors']\n",
    "    \n",
    "    if pd.isna(inventors) or not isinstance(inventors, str):\n",
    "        continue\n",
    "    \n",
    "    inventors = inventors.split(';;')\n",
    "    pairs = generate_inventor_pairs_1(inventors)\n",
    "    \n",
    "    for pair in pairs:\n",
    "        if pair in pair_counts:\n",
    "            pair_counts[pair] += 1\n",
    "        else:\n",
    "            pair_counts[pair] = 1\n",
    "    \n",
    "\n",
    "new_rows = []\n",
    "\n",
    "for pair, count in pair_counts.items():\n",
    "    source, target = pair\n",
    "    new_rows.append({'Source': source, 'Target': target, 'Weight': count})\n",
    "\n",
    "G3 = pd.DataFrame(new_rows)"
   ]
  },
  {
   "cell_type": "code",
   "execution_count": 16,
   "id": "7bd70073",
   "metadata": {},
   "outputs": [],
   "source": [
    "#G3"
   ]
  },
  {
   "cell_type": "markdown",
   "id": "4e103a7c",
   "metadata": {},
   "source": [
    "G_1990 è uguale al df compreso tra 1980 e il 1989"
   ]
  },
  {
   "cell_type": "code",
   "execution_count": 17,
   "id": "5202850c",
   "metadata": {},
   "outputs": [],
   "source": [
    "pair_counts = {}\n",
    "\n",
    "for index, row in G_1990.iterrows():\n",
    "    inventors = row['Inventors']\n",
    "    \n",
    "    if pd.isna(inventors) or not isinstance(inventors, str):\n",
    "        continue\n",
    "    \n",
    "    inventors = inventors.split(';;')\n",
    "    pairs = generate_inventor_pairs_1(inventors)\n",
    "    \n",
    "    for pair in pairs:\n",
    "        if pair in pair_counts:\n",
    "            pair_counts[pair] += 1\n",
    "        else:\n",
    "            pair_counts[pair] = 1\n",
    "    \n",
    "\n",
    "new_rows = []\n",
    "\n",
    "for pair, count in pair_counts.items():\n",
    "    source, target = pair\n",
    "    new_rows.append({'Source': source, 'Target': target, 'Weight': count})\n",
    "\n",
    "G4 = pd.DataFrame(new_rows)"
   ]
  },
  {
   "cell_type": "code",
   "execution_count": 18,
   "id": "9cdd6df7",
   "metadata": {},
   "outputs": [],
   "source": [
    "#G4"
   ]
  },
  {
   "cell_type": "markdown",
   "id": "5680bd0e",
   "metadata": {},
   "source": [
    "G_1980 è uguale al df compreso tra 1970 e il 1979"
   ]
  },
  {
   "cell_type": "code",
   "execution_count": 19,
   "id": "32130aee",
   "metadata": {},
   "outputs": [],
   "source": [
    "pair_counts = {}\n",
    "\n",
    "for index, row in G_1980.iterrows():\n",
    "    inventors = row['Inventors']\n",
    "    \n",
    "    if pd.isna(inventors) or not isinstance(inventors, str):\n",
    "        continue\n",
    "    \n",
    "    inventors = inventors.split(';;')\n",
    "    pairs = generate_inventor_pairs_1(inventors)\n",
    "    \n",
    "    for pair in pairs:\n",
    "        if pair in pair_counts:\n",
    "            pair_counts[pair] += 1\n",
    "        else:\n",
    "            pair_counts[pair] = 1\n",
    "    \n",
    "\n",
    "new_rows = []\n",
    "\n",
    "for pair, count in pair_counts.items():\n",
    "    source, target = pair\n",
    "    new_rows.append({'Source': source, 'Target': target, 'Weight': count})\n",
    "\n",
    "G5 = pd.DataFrame(new_rows)"
   ]
  },
  {
   "cell_type": "code",
   "execution_count": 20,
   "id": "46280442",
   "metadata": {},
   "outputs": [],
   "source": [
    "#G5"
   ]
  },
  {
   "cell_type": "code",
   "execution_count": null,
   "id": "e71bad00",
   "metadata": {},
   "outputs": [],
   "source": []
  },
  {
   "cell_type": "code",
   "execution_count": 21,
   "id": "0a1d7693",
   "metadata": {},
   "outputs": [],
   "source": [
    "def read_net_w(filename):\n",
    "    g = nx.Graph()\n",
    "    with open(filename, encoding='utf-8') as f:\n",
    "        f.readline()\n",
    "        for l in f:\n",
    "            l = l.split(\",\")\n",
    "            g.add_edge(l[0], l[1], weight=(l[2].rstrip('\\n')))\n",
    "    return g"
   ]
  },
  {
   "cell_type": "markdown",
   "id": "9bf27691",
   "metadata": {},
   "source": [
    "### Louvain algorithm"
   ]
  },
  {
   "cell_type": "code",
   "execution_count": 28,
   "id": "2ae4fddc",
   "metadata": {},
   "outputs": [],
   "source": [
    "X_TOT = [G5, pd.concat([G5,G4]), \n",
    "               pd.concat([G5,G4, G3]), pd.concat([G5,G4, G3, G2]),pd.concat([G5,G4, G3, G2,G1])]"
   ]
  },
  {
   "cell_type": "code",
   "execution_count": 29,
   "id": "83f6d94a",
   "metadata": {
    "scrolled": true
   },
   "outputs": [
    {
     "name": "stdout",
     "output_type": "stream",
     "text": [
      "63\n",
      "102\n",
      "146\n",
      "135\n",
      "115\n"
     ]
    }
   ],
   "source": [
    "#Numero di comunità create per ogni timestamp\n",
    "\n",
    "tc = TemporalClustering()\n",
    "t = 1\n",
    "g = nx.Graph()\n",
    "\n",
    "for df in X_TOT:\n",
    "    g = nx.from_pandas_edgelist(df, target = \"Target\" ,source = \"Source\" )\n",
    "    coms = algorithms.louvain(g)\n",
    "    tc.add_clustering(coms, t)\n",
    "    print(len(tc.get_clustering_at(t).communities))   \n",
    "    t = t+1"
   ]
  },
  {
   "cell_type": "code",
   "execution_count": 28,
   "id": "f52c842e",
   "metadata": {},
   "outputs": [
    {
     "data": {
      "text/plain": [
       "[0.054978783592644985,\n",
       " 0.04771337495647823,\n",
       " 0.3224522635146269,\n",
       " 0.49731044756293125]"
      ]
     },
     "execution_count": 28,
     "metadata": {},
     "output_type": "execute_result"
    }
   ],
   "source": [
    "trend = tc.clustering_stability_trend(evaluation.nf1)\n",
    "#trend"
   ]
  },
  {
   "cell_type": "markdown",
   "id": "9b1bb8cb",
   "metadata": {},
   "source": [
    "### Distribuzione delle dimensioni dei temporal clustering"
   ]
  },
  {
   "cell_type": "code",
   "execution_count": 29,
   "id": "8cc96a8a",
   "metadata": {},
   "outputs": [],
   "source": [
    "def to_dictionary_to_plot(dict_com):\n",
    "    df = pd.DataFrame.from_dict(dict_com, orient='index')\n",
    "    df = df.transpose()\n",
    "    df['len_community'] = [len(x) for x in df.iloc[:,0]]\n",
    "    return df\n"
   ]
  },
  {
   "cell_type": "code",
   "execution_count": 71,
   "id": "9f30e6ae",
   "metadata": {},
   "outputs": [],
   "source": [
    "def plot_dimensions(df, i):\n",
    "    plt.figure(figsize=(11,7))\n",
    "    df.len_community.head(20).plot(kind = 'bar', color = \"darkslateblue\")\n",
    "    plt.xticks(rotation=0, ha='right')\n",
    "    plt.title(f\"Dimensione delle comunità ({i} timestamp)\")"
   ]
  },
  {
   "cell_type": "code",
   "execution_count": 31,
   "id": "78ccae6a",
   "metadata": {},
   "outputs": [],
   "source": [
    "dict_com_1 = {}\n",
    "dict_com_2 = {}\n",
    "dict_com_3 = {}\n",
    "dict_com_4 = {}\n",
    "dict_com_5 = {}\n",
    "\n",
    "lista_dict = [dict_com_1, dict_com_2, dict_com_3, dict_com_4,dict_com_5]\n",
    "\n",
    "for i in tc.get_observation_ids():\n",
    "    community = {}\n",
    "    diz_comm = tc.get_clustering_at(i).named_communities\n",
    "    for el in diz_comm:\n",
    "        community[el] =  diz_comm[el]\n",
    "    dizionario = lista_dict[i-1]    \n",
    "    dizionario[i] = community"
   ]
  },
  {
   "cell_type": "code",
   "execution_count": 72,
   "id": "0713eef0",
   "metadata": {},
   "outputs": [],
   "source": [
    "df_plot_1 = to_dictionary_to_plot(dict_com_1)\n",
    "df_plot_2 = to_dictionary_to_plot(dict_com_2)\n",
    "df_plot_3 = to_dictionary_to_plot(dict_com_3)\n",
    "df_plot_4 = to_dictionary_to_plot(dict_com_4)\n",
    "df_plot_5 = to_dictionary_to_plot(dict_com_5)"
   ]
  },
  {
   "cell_type": "code",
   "execution_count": 73,
   "id": "5f9ee337",
   "metadata": {},
   "outputs": [
    {
     "data": {
      "image/png": "[encoded data removed]",
      "text/plain": [
       "<Figure size 792x504 with 1 Axes>"
      ]
     },
     "metadata": {
      "needs_background": "light"
     },
     "output_type": "display_data"
    },
    {
     "data": {
      "image/png": "[encoded data removed]",
      "text/plain": [
       "<Figure size 792x504 with 1 Axes>"
      ]
     },
     "metadata": {
      "needs_background": "light"
     },
     "output_type": "display_data"
    },
    {
     "data": {
      "image/png": "[encoded data removed]",
      "text/plain": [
       "<Figure size 792x504 with 1 Axes>"
      ]
     },
     "metadata": {
      "needs_background": "light"
     },
     "output_type": "display_data"
    },
    {
     "data": {
      "image/png": "[encoded data removed]",
      "text/plain": [
       "<Figure size 792x504 with 1 Axes>"
      ]
     },
     "metadata": {
      "needs_background": "light"
     },
     "output_type": "display_data"
    },
    {
     "data": {
      "image/png": "[encoded data removed]",
      "text/plain": [
       "<Figure size 792x504 with 1 Axes>"
      ]
     },
     "metadata": {
      "needs_background": "light"
     },
     "output_type": "display_data"
    }
   ],
   "source": [
    "plot_dimensions(df_plot_1, \"primo\")\n",
    "plot_dimensions(df_plot_2, \"secondo\")\n",
    "plot_dimensions(df_plot_3, \"terzo\")\n",
    "plot_dimensions(df_plot_4, \"quarto\")\n",
    "plot_dimensions(df_plot_5, \"quinto\")"
   ]
  },
  {
   "cell_type": "markdown",
   "id": "8651c591",
   "metadata": {},
   "source": [
    "### Polytree"
   ]
  },
  {
   "cell_type": "code",
   "execution_count": 30,
   "id": "3b15da51",
   "metadata": {},
   "outputs": [
    {
     "name": "stdout",
     "output_type": "stream",
     "text": [
      "DiGraph with 551 nodes and 446 edges\n"
     ]
    }
   ],
   "source": [
    "jaccard = lambda x, y: len(set(x) & set(y)) / len(set(x) | set(y))\n",
    "com_polytree = tc.lifecycle_polytree(jaccard, two_sided=False)\n",
    "print(com_polytree)"
   ]
  },
  {
   "cell_type": "code",
   "execution_count": 31,
   "id": "6cc2edde",
   "metadata": {},
   "outputs": [],
   "source": [
    "weak_comp = list(nx.weakly_connected_components(com_polytree))[0]\n",
    "x = com_polytree.copy()\n",
    "x.remove_nodes_from([n for n in com_polytree.nodes() if n not in weak_comp])\n",
    "    "
   ]
  },
  {
   "cell_type": "code",
   "execution_count": 59,
   "id": "d8c20b96",
   "metadata": {},
   "outputs": [
    {
     "data": {
      "image/png": "[encoded data removed]",
      "text/plain": [
       "<Figure size 1080x864 with 1 Axes>"
      ]
     },
     "metadata": {},
     "output_type": "display_data"
    }
   ],
   "source": [
    "plt.figure(8,figsize=(15,12)) \n",
    "\n",
    "node_colors = []\n",
    "label_dict = {}\n",
    "for community in x.nodes():\n",
    "        label_dict[community] = str(community) + \"\\n\" + str(len(tc.get_community(str(community))))\n",
    "        if str(community) == \"2_18\" or str(community) == \"2_23\" or str(community) == \"2_2\":\n",
    "            node_colors.append('orange')\n",
    "        elif str(community) == \"3_0\" or str(community) == \"3_17\":\n",
    "            node_colors.append('red')\n",
    "        elif str(community) == \"4_0\" or str(community) == \"4_30\":\n",
    "            node_colors.append('purple')\n",
    "        elif str(community) == \"5_4\":\n",
    "            node_colors.append('green')\n",
    "        else:\n",
    "            node_colors.append('yellow')\n",
    "nx.draw(x, pos=nx.spring_layout(x), with_labels=True, node_color = node_colors, font_size = 15, node_size = 4000) \n"
   ]
  },
  {
   "cell_type": "markdown",
   "id": "26647e90",
   "metadata": {},
   "source": [
    "### Analisi polytree"
   ]
  },
  {
   "cell_type": "code",
   "execution_count": 60,
   "id": "e81eef77",
   "metadata": {},
   "outputs": [],
   "source": [
    "tc.get_explicit_community_match()"
   ]
  },
  {
   "cell_type": "code",
   "execution_count": 61,
   "id": "0bbb738b",
   "metadata": {},
   "outputs": [],
   "source": [
    "matches = tc.community_matching(jaccard, two_sided=True)"
   ]
  },
  {
   "cell_type": "code",
   "execution_count": 67,
   "id": "50f425eb",
   "metadata": {
    "scrolled": false
   },
   "outputs": [],
   "source": [
    "#matches"
   ]
  },
  {
   "cell_type": "code",
   "execution_count": 79,
   "id": "18c52ca0",
   "metadata": {},
   "outputs": [
    {
     "name": "stdout",
     "output_type": "stream",
     "text": [
      "Riga 311: ('4_0', '5_4', 0.6022967663946812)\n",
      "Riga 341: ('4_30', '5_4', 0.06866952789699571)\n",
      "Riga 450: ('4_0', '5_4', 0.6022967663946812)\n"
     ]
    }
   ],
   "source": [
    "result = [(i, t) for i, t in enumerate(matches) if t[1] == '5_4' and t[2] != 0]\n",
    "for i, t in result:\n",
    "    print(f'Riga {i}: {t}')"
   ]
  },
  {
   "cell_type": "code",
   "execution_count": 84,
   "id": "6d73cf92",
   "metadata": {},
   "outputs": [
    {
     "data": {
      "text/plain": [
       "3094"
      ]
     },
     "execution_count": 84,
     "metadata": {},
     "output_type": "execute_result"
    }
   ],
   "source": [
    "len(tc.get_clustering_at(5).named_communities[matches[311][1]]) #size ultimo nodo"
   ]
  },
  {
   "cell_type": "code",
   "execution_count": null,
   "id": "6fa220e6",
   "metadata": {},
   "outputs": [],
   "source": []
  },
  {
   "cell_type": "code",
   "execution_count": 90,
   "id": "a7e8baaf",
   "metadata": {},
   "outputs": [
    {
     "name": "stdout",
     "output_type": "stream",
     "text": [
      "Riga 0: ('1_0', '2_2', 0.23695345557122707)\n",
      "Riga 13604: ('1_0', '2_2', 0.23695345557122707)\n",
      "Riga 14: ('1_14', '2_18', 0.14559386973180077)\n",
      "Riga 13619: ('1_14', '2_17', 0.012618296529968454)\n",
      "Riga 13620: ('1_14', '2_18', 0.14559386973180077)\n",
      "Riga 36: ('1_36', '2_18', 0.04979253112033195)\n",
      "Riga 13: ('1_13', '2_23', 0.23214285714285715)\n",
      "Riga 13625: ('1_13', '2_23', 0.23214285714285715)\n",
      "Riga 50: ('1_50', '2_23', 0.013953488372093023)\n",
      "Riga 33: ('1_33', '2_2', 0.017241379310344827)\n"
     ]
    }
   ],
   "source": [
    "comunità_originarie = [\"1_0\", \"1_14\", \"1_36\", \"1_13\", \"1_50\", \"1_33\"]\n",
    "result = []\n",
    "\n",
    "for c in comunità_originarie:\n",
    "    for i, t in enumerate(matches):\n",
    "        if t[0] == c and t[2] != 0:\n",
    "            result.append((i, t))\n",
    "\n",
    "for i, t in result:\n",
    "    print(f'Riga {i}: {t}')\n"
   ]
  },
  {
   "cell_type": "code",
   "execution_count": 94,
   "id": "11042e11",
   "metadata": {},
   "outputs": [
    {
     "name": "stdout",
     "output_type": "stream",
     "text": [
      "182 58 12 62 4 13\n"
     ]
    }
   ],
   "source": [
    "print(len(tc.get_clustering_at(1).named_communities[matches[0][0]]), #size dei nodi di partenza\n",
    "len(tc.get_clustering_at(1).named_communities[matches[14][0]]),\n",
    "len(tc.get_clustering_at(1).named_communities[matches[36][0]]),\n",
    "len(tc.get_clustering_at(1).named_communities[matches[13][0]]),\n",
    "len(tc.get_clustering_at(1).named_communities[matches[50][0]]),\n",
    "len(tc.get_clustering_at(1).named_communities[matches[33][0]]))"
   ]
  },
  {
   "cell_type": "code",
   "execution_count": null,
   "id": "4b9a06c9",
   "metadata": {},
   "outputs": [],
   "source": []
  },
  {
   "cell_type": "markdown",
   "id": "5f6b1fb9",
   "metadata": {},
   "source": [
    "## \n",
    "In questa sezione si testano i temporal clustering degli altri algoritmi e si verificano le performance "
   ]
  },
  {
   "cell_type": "code",
   "execution_count": 57,
   "id": "7c5695da",
   "metadata": {},
   "outputs": [],
   "source": [
    "tc = TemporalClustering()\n",
    "condu_tot=[]\n",
    "mod_tot=[]\n",
    "internal_degree_tot=[]\n",
    "\n",
    "for G in X_TOT:\n",
    "    g = nx.from_pandas_edgelist(G, target = \"Target\" ,source = \"Source\" )\n",
    "    coms = algorithms.louvain(g)\n",
    "    condu=coms.conductance()\n",
    "    mod=coms.newman_girvan_modularity()\n",
    "    internal_degree=coms.average_internal_degree()\n",
    "    condu_tot.append(condu)\n",
    "    mod_tot.append(mod)\n",
    "    internal_degree_tot.append(internal_degree)\n",
    "\n"
   ]
  },
  {
   "cell_type": "code",
   "execution_count": 58,
   "id": "800aeeb1",
   "metadata": {},
   "outputs": [
    {
     "data": {
      "text/plain": [
       "[FitnessResult(min=1.0, max=12.027397260273972, score=4.4259101793366655, std=2.306262986182572),\n",
       " FitnessResult(min=1.0, max=11.95, score=4.935351300109541, std=2.8226385134338985),\n",
       " FitnessResult(min=1.0, max=14.656716417910447, score=5.249313572427627, std=3.160556772051128),\n",
       " FitnessResult(min=1.0, max=15.292661361626879, score=5.722084451152607, std=3.4310820144670053),\n",
       " FitnessResult(min=1.0, max=41.37931034482759, score=6.528599814507335, std=4.945589151683925)]"
      ]
     },
     "execution_count": 58,
     "metadata": {},
     "output_type": "execute_result"
    }
   ],
   "source": [
    "internal_degree_tot"
   ]
  },
  {
   "cell_type": "code",
   "execution_count": 40,
   "id": "fad36a94",
   "metadata": {},
   "outputs": [
    {
     "data": {
      "text/plain": [
       "([FitnessResult(min=0.0, max=0.09717868338557993, score=0.011836976543868526, std=0.017917139344555532),\n",
       "  FitnessResult(min=0.0, max=0.2140077821011673, score=0.03223258360851941, std=0.0500571984263231),\n",
       "  FitnessResult(min=0.0, max=0.28888888888888886, score=0.029063269932709523, std=0.059925801495478305),\n",
       "  FitnessResult(min=0.0, max=0.20225789898101312, score=0.030537351738730054, std=0.055685647236532014),\n",
       "  FitnessResult(min=0.0, max=0.2234609791565681, score=0.030294863300193334, std=0.05343994672863941)],\n",
       " [FitnessResult(min=None, max=None, score=0.928226332060958, std=None),\n",
       "  FitnessResult(min=None, max=None, score=0.8675473338654197, std=None),\n",
       "  FitnessResult(min=None, max=None, score=0.8350929064566018, std=None),\n",
       "  FitnessResult(min=None, max=None, score=0.8494124069725633, std=None),\n",
       "  FitnessResult(min=None, max=None, score=0.8654868197462935, std=None)])"
      ]
     },
     "execution_count": 40,
     "metadata": {},
     "output_type": "execute_result"
    }
   ],
   "source": [
    "annata=[1980,1990,2000,2010,2020]\n",
    "\n",
    "condu_tot,mod_tot"
   ]
  },
  {
   "cell_type": "code",
   "execution_count": 70,
   "id": "16fa03f2",
   "metadata": {},
   "outputs": [
    {
     "data": {
      "image/png": "[encoded data removed]",
      "text/plain": [
       "<Figure size 432x288 with 1 Axes>"
      ]
     },
     "metadata": {
      "needs_background": "light"
     },
     "output_type": "display_data"
    }
   ],
   "source": [
    "#estrazione dello score da ogni risultato\n",
    "scores_condu = [result.score for result in condu_tot]\n",
    "scores_mod = [result.score for result in mod_tot]\n",
    "x = annata\n",
    "\n",
    "#lineplot per rappresentare la modularity\n",
    "plt.plot(x, scores_mod, marker='o', linestyle='-', color='r', label='Score Modularity')\n",
    "\n",
    "plt.xlabel('Anno')\n",
    "plt.ylabel('Score')\n",
    "plt.legend()\n",
    "plt.title('Louvain algorithm: Modularity X timestamp')\n",
    "plt.show()\n"
   ]
  },
  {
   "cell_type": "code",
   "execution_count": 42,
   "id": "9f8fa9ff",
   "metadata": {},
   "outputs": [
    {
     "data": {
      "image/png": "[encoded data removed]",
      "text/plain": [
       "<Figure size 432x288 with 1 Axes>"
      ]
     },
     "metadata": {
      "needs_background": "light"
     },
     "output_type": "display_data"
    }
   ],
   "source": [
    "# Estrazione dello score da ogni risultato\n",
    "scores_condu = [result.score for result in condu_tot]\n",
    "\n",
    "x = annata\n",
    "\n",
    "plt.plot(x, scores_condu, marker='o', linestyle='-', color='b', label='Score Conductance')\n",
    "\n",
    "plt.xlabel('Risultato')\n",
    "plt.ylabel('Score')\n",
    "\n",
    "plt.title('Score dei Risultati')\n",
    "plt.legend()\n",
    "plt.show()\n"
   ]
  },
  {
   "cell_type": "code",
   "execution_count": 79,
   "id": "f7c9a2e4",
   "metadata": {},
   "outputs": [
    {
     "name": "stdout",
     "output_type": "stream",
     "text": [
      "62\n",
      "101\n",
      "146\n",
      "136\n",
      "119\n"
     ]
    }
   ],
   "source": [
    "#test con leiden\n",
    "tc_2 = TemporalClustering()\n",
    "t=1\n",
    "for G in X_TOT:\n",
    "    g = nx.from_pandas_edgelist(G, target = \"Target\" ,source = \"Source\" )\n",
    "    coms = algorithms.leiden(g)\n",
    "    tc_2.add_clustering(coms, t)\n",
    "    print(len(tc_2.get_clustering_at(t).communities))   \n",
    "    t = t+1"
   ]
  },
  {
   "cell_type": "code",
   "execution_count": 47,
   "id": "d2a5c255",
   "metadata": {},
   "outputs": [],
   "source": [
    "condu_2_tot=[]\n",
    "mod_2_tot=[]\n",
    "\n",
    "\n",
    "for G in X_TOT:\n",
    "    g = nx.from_pandas_edgelist(G, target = \"Target\" ,source = \"Source\" )\n",
    "    coms = algorithms.leiden(g)\n",
    "    condu=coms.conductance()\n",
    "    mod=coms.newman_girvan_modularity()\n",
    "    condu_2_tot.append(condu)\n",
    "    mod_2_tot.append(mod)"
   ]
  },
  {
   "cell_type": "code",
   "execution_count": 56,
   "id": "1064f0fb",
   "metadata": {},
   "outputs": [
    {
     "data": {
      "text/plain": [
       "[0.048476455552973745,\n",
       " 0.05478647655101609,\n",
       " 0.3757965222288515,\n",
       " 0.5055058951498552]"
      ]
     },
     "execution_count": 56,
     "metadata": {},
     "output_type": "execute_result"
    }
   ],
   "source": [
    "trend_2 = tc_2.clustering_stability_trend(evaluation.nf1)\n",
    "trend_2"
   ]
  },
  {
   "cell_type": "code",
   "execution_count": 49,
   "id": "1c745c51",
   "metadata": {},
   "outputs": [
    {
     "data": {
      "text/plain": [
       "([FitnessResult(min=0.0, max=0.059665871121718374, score=0.011480530473568883, std=0.015632849634346364),\n",
       "  FitnessResult(min=0.0, max=0.15210907541542396, score=0.030557194800425787, std=0.04692347783924228),\n",
       "  FitnessResult(min=0.0, max=0.2050824788230049, score=0.027852360148439323, std=0.055836909578350934),\n",
       "  FitnessResult(min=0.0, max=0.23347185493010955, score=0.029508982611761613, std=0.05480743401449796),\n",
       "  FitnessResult(min=0.0, max=0.18316019682886822, score=0.028377110346560132, std=0.04953306808777632)],\n",
       " [FitnessResult(min=0.0, max=0.09717868338557993, score=0.011836976543868526, std=0.017917139344555532),\n",
       "  FitnessResult(min=0.0, max=0.2140077821011673, score=0.03223258360851941, std=0.0500571984263231),\n",
       "  FitnessResult(min=0.0, max=0.28888888888888886, score=0.029063269932709523, std=0.059925801495478305),\n",
       "  FitnessResult(min=0.0, max=0.20225789898101312, score=0.030537351738730054, std=0.055685647236532014),\n",
       "  FitnessResult(min=0.0, max=0.2234609791565681, score=0.030294863300193334, std=0.05343994672863941)])"
      ]
     },
     "execution_count": 49,
     "metadata": {},
     "output_type": "execute_result"
    }
   ],
   "source": [
    "condu_2_tot,condu_tot"
   ]
  },
  {
   "cell_type": "code",
   "execution_count": 48,
   "id": "c4c40129",
   "metadata": {},
   "outputs": [
    {
     "data": {
      "image/png": "[encoded data removed]",
      "text/plain": [
       "<Figure size 432x288 with 1 Axes>"
      ]
     },
     "metadata": {
      "needs_background": "light"
     },
     "output_type": "display_data"
    }
   ],
   "source": [
    "scores_2_condu = [result.score for result in condu_2_tot]\n",
    "scores_2_mod = [result.score for result in mod_2_tot]\n",
    "x = annata\n",
    "\n",
    "\n",
    "plt.plot(x, scores_2_mod, marker='o', linestyle='-', color='r', label='Score Modularity')\n",
    "\n",
    "plt.xlabel('Anno')\n",
    "plt.ylabel('Score')\n",
    "\n",
    "plt.legend()\n",
    "plt.title('Score dei Risultati')\n",
    "plt.show()\n"
   ]
  },
  {
   "cell_type": "code",
   "execution_count": 46,
   "id": "3739835b",
   "metadata": {},
   "outputs": [
    {
     "name": "stdout",
     "output_type": "stream",
     "text": [
      "141\n",
      "582\n",
      "1087\n",
      "1762\n",
      "2691\n"
     ]
    }
   ],
   "source": [
    "#test con label propagation\n",
    "tc_3 = TemporalClustering()\n",
    "t=1\n",
    "for G in X_TOT:\n",
    "    g = nx.from_pandas_edgelist(G, target = \"Target\" ,source = \"Source\" )\n",
    "    coms = algorithms.label_propagation(g)\n",
    "    tc_3.adk = 3\n",
    "cliques = list(nx.find_cliques(G))\n",
    "\n",
    "# Filtra le comunità che soddisfano il criterio k-clique\n",
    "k_clique_communities = [c for c in cliques if len(c) >= k]\n",
    "\n",
    "# Stampa le comunità trovate\n",
    "for i, community in enumerate(k_clique_communities):\n",
    "    print(f\"Community {i + 1}: {community}\")d_clustering(coms, t)\n",
    "    print(len(tc_3.get_clustering_at(t).communities))   \n",
    "    t = t+1"
   ]
  },
  {
   "cell_type": "code",
   "execution_count": 50,
   "id": "cd233096",
   "metadata": {},
   "outputs": [],
   "source": [
    "condu_3_tot=[]\n",
    "mod_3_tot=[]\n",
    "\n",
    "\n",
    "for G in X_TOT:\n",
    "    g = nx.from_pandas_edgelist(G, target = \"Target\" ,source = \"Source\" )\n",
    "    coms = algorithms.label_propagation(g)\n",
    "    condu=coms.conductance()\n",
    "    mod=coms.newman_girvan_modularity()\n",
    "    condu_3_tot.append(condu)\n",
    "    mod_3_tot.append(mod)"
   ]
  },
  {
   "cell_type": "code",
   "execution_count": 51,
   "id": "05bdb108",
   "metadata": {},
   "outputs": [
    {
     "data": {
      "text/plain": [
       "[FitnessResult(min=0.0, max=0.6888888888888889, score=0.21501611750565666, std=0.20586172275612266),\n",
       " FitnessResult(min=0.0, max=0.8577777777777778, score=0.33027218094043725, std=0.20345534644253344),\n",
       " FitnessResult(min=0.0, max=0.8181818181818182, score=0.3719103841327974, std=0.20739270242421687),\n",
       " FitnessResult(min=0.0, max=0.8666666666666667, score=0.4021192543914807, std=0.18697796009096526),\n",
       " FitnessResult(min=0.0, max=0.8333333333333334, score=0.4259001706968304, std=0.17072302809301926)]"
      ]
     },
     "execution_count": 51,
     "metadata": {},
     "output_type": "execute_result"
    }
   ],
   "source": [
    "condu_3_tot"
   ]
  },
  {
   "cell_type": "code",
   "execution_count": null,
   "id": "5ea78796",
   "metadata": {},
   "outputs": [],
   "source": [
    "evaluation.average_internal_degree(g, leiden_coms)"
   ]
  },
  {
   "cell_type": "code",
   "execution_count": 55,
   "id": "f655636a",
   "metadata": {},
   "outputs": [
    {
     "data": {
      "text/plain": [
       "[0.03534726874275022,\n",
       " 0.10326438728996126,\n",
       " 0.20480654573211154,\n",
       " 0.26919838606329194]"
      ]
     },
     "execution_count": 55,
     "metadata": {},
     "output_type": "execute_result"
    }
   ],
   "source": [
    "trend_3 = tc_3.clustering_stability_trend(evaluation.nf1)\n",
    "trend_3"
   ]
  },
  {
   "cell_type": "code",
   "execution_count": null,
   "id": "85f6d332",
   "metadata": {},
   "outputs": [],
   "source": [
    "evaluation.normalized_mutual_information(leiden_coms, lp_coms)"
   ]
  },
  {
   "cell_type": "code",
   "execution_count": 60,
   "id": "58893ec3",
   "metadata": {},
   "outputs": [
    {
     "name": "stdout",
     "output_type": "stream",
     "text": [
      "MatchingResult(score=0.9823533384942181, std=None)\n",
      "MatchingResult(score=0.8796962443262145, std=None)\n",
      "MatchingResult(score=0.8427435971273084, std=None)\n",
      "MatchingResult(score=0.8669477294444808, std=None)\n",
      "MatchingResult(score=0.8741941078796233, std=None)\n"
     ]
    }
   ],
   "source": [
    "#external evaluation tra louvain e leiden cluster\n",
    "tc_4 = TemporalClustering()\n",
    "tc_5 = TemporalClustering()\n",
    "\n",
    "for G in X_TOT:\n",
    "    g = nx.from_pandas_edgelist(G, target = \"Target\" ,source = \"Source\" )\n",
    "    louvain_coms = algorithms.louvain(g)\n",
    "    leiden_coms = algorithms.leiden(g)\n",
    "    tc_4.add_clustering(louvain_coms, t)\n",
    "    tc_5.add_clustering(leiden_coms, t)\n",
    "    \n",
    "    NMI=evaluation.normalized_mutual_information(louvain_coms, leiden_coms)\n",
    "    print(NMI)\n",
    "    \n",
    "    t = t+1"
   ]
  },
  {
   "cell_type": "code",
   "execution_count": 68,
   "id": "f0e2e787",
   "metadata": {},
   "outputs": [
    {
     "name": "stdout",
     "output_type": "stream",
     "text": [
      "216\n",
      "651\n",
      "1163\n",
      "1626\n",
      "2018\n"
     ]
    }
   ],
   "source": [
    "#test con k-clique\n",
    "tc_6= TemporalClustering()\n",
    "t=1\n",
    "\n",
    "for G in X_TOT:\n",
    "    g = nx.from_pandas_edgelist(G, target = \"Target\" ,source = \"Source\" )\n",
    "    k_clique_coms = algorithms.kclique(g,k=3)\n",
    "    tc_6.add_clustering(k_clique_coms, t)\n",
    "    print(len(tc_6.get_clustering_at(t).communities))   \n",
    "    t=t+1"
   ]
  },
  {
   "cell_type": "code",
   "execution_count": 69,
   "id": "f0aaebc8",
   "metadata": {},
   "outputs": [
    {
     "data": {
      "text/plain": [
       "[0.0449357476573974,\n",
       " 0.13275643819616398,\n",
       " 0.2732427167642628,\n",
       " 0.3464846999439978]"
      ]
     },
     "execution_count": 69,
     "metadata": {},
     "output_type": "execute_result"
    }
   ],
   "source": [
    "trend_6 = tc_6.clustering_stability_trend(evaluation.nf1)\n",
    "trend_6"
   ]
  }
 ],
 "metadata": {
  "kernelspec": {
   "display_name": "Python 3",
   "language": "python",
   "name": "python3"
  },
  "language_info": {
   "codemirror_mode": {
    "name": "ipython",
    "version": 3
   },
   "file_extension": ".py",
   "mimetype": "text/x-python",
   "name": "python",
   "nbconvert_exporter": "python",
   "pygments_lexer": "ipython3",
   "version": "3.8.8"
  }
 },
 "nbformat": 4,
 "nbformat_minor": 5
}
